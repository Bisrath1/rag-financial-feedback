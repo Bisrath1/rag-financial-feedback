{
 "cells": [
  {
   "cell_type": "code",
   "execution_count": 5,
   "id": "2e3377ca",
   "metadata": {},
   "outputs": [
    {
     "name": "stderr",
     "output_type": "stream",
     "text": [
      "c:\\10x AIMastery\\rag-financial-feedback\\venv\\Lib\\site-packages\\tqdm\\auto.py:21: TqdmWarning: IProgress not found. Please update jupyter and ipywidgets. See https://ipywidgets.readthedocs.io/en/stable/user_install.html\n",
      "  from .autonotebook import tqdm as notebook_tqdm\n",
      "Device set to use cpu\n",
      "Both `max_new_tokens` (=256) and `max_length`(=512) seem to have been set. `max_new_tokens` will take precedence. Please refer to the documentation for more information. (https://huggingface.co/docs/transformers/main/en/main_classes/text_generation)\n"
     ]
    },
    {
     "name": "stdout",
     "output_type": "stream",
     "text": [
      "💬 Question: What are the most common complaints about personal loans?\n",
      "✅ Answer: opacity in offering what is essentially a loan isnt above board i filed a complaint now i am reporting this to you because of the following concerns --- this negative information being reported has caused me to suffer on the condition of thousands of extra dollars in interest on several loans i have also suffered stress and undue hardship concerning this matter --- i have another dispute about the personal loan --- loans there have been no past duelate payments ever until this one on my credit report due to the error or being enrolled into online paperless statements i m curious to whether or not there are others who have faced the same predicament by unknowingly or unwittingly being enrolled into online --- is keeping me from getting a loan\n",
      "📄 Sources:\n",
      "- time for some of these but not all and sometimes none  i said id like to file a complaint because this kind of opacity in offering what is essentially a loan isnt above board i filed a complaint now i am reporting this to you because of the following concerns  xxxx lack of consumer transparency\n",
      "- this negative information being reported has caused me to suffer on the condition of thousands of extra dollars in interest on several loans i have also suffered stress and undue hardship concerning this matter\n",
      "================================================================================\n"
     ]
    },
    {
     "name": "stderr",
     "output_type": "stream",
     "text": [
      "Both `max_new_tokens` (=256) and `max_length`(=512) seem to have been set. `max_new_tokens` will take precedence. Please refer to the documentation for more information. (https://huggingface.co/docs/transformers/main/en/main_classes/text_generation)\n"
     ]
    },
    {
     "name": "stdout",
     "output_type": "stream",
     "text": [
      "💬 Question: Do users face problems with money transfers?\n",
      "✅ Answer: it s just them trying to get more money out of consumers by charging them balance transfer fees and not caring that they are opening up opportunity after opportunity for someone to steal those checks --- transfersdelivered is all a hoaxnot a matter of businessi have put in a complaint before but nothing was done or said about itthe company or party grant solutions took money from me and never followed through with reimbursing me any paymentsthe amount is very plain too see that somrthing is wrong --- that they could not offer any protections for electronic money transfer this is unacceptable consumers need to have some sort of recourse in the event of fraud\n",
      "📄 Sources:\n",
      "- transfers it s just them trying to get more money out of consumers by charging them balance transfer fees and not caring that they are opening up opportunity after opportunity for someone to steal those checks\n",
      "- transfersdelivered  is all a hoaxnot a matter of businessi have put in a complaint before but nothing was done or said about itthe company or party grant solutions took money from me and never followed through with reimbursing me any paymentsthe amount is very plain too see that somrthing is wrong\n",
      "================================================================================\n"
     ]
    },
    {
     "name": "stderr",
     "output_type": "stream",
     "text": [
      "Both `max_new_tokens` (=256) and `max_length`(=512) seem to have been set. `max_new_tokens` will take precedence. Please refer to the documentation for more information. (https://huggingface.co/docs/transformers/main/en/main_classes/text_generation)\n"
     ]
    },
    {
     "name": "stdout",
     "output_type": "stream",
     "text": [
      "💬 Question: Are savings accounts often closed without notice?\n",
      "✅ Answer: no\n",
      "📄 Sources:\n",
      "- a bank wouldnt have information about account closures if they were the ones that have closed the account\n",
      "- accounts his checking and savings accounts were closed on xxxxxxxx and new accounts were opened that same day\n",
      "================================================================================\n"
     ]
    },
    {
     "name": "stderr",
     "output_type": "stream",
     "text": [
      "Both `max_new_tokens` (=256) and `max_length`(=512) seem to have been set. `max_new_tokens` will take precedence. Please refer to the documentation for more information. (https://huggingface.co/docs/transformers/main/en/main_classes/text_generation)\n"
     ]
    },
    {
     "name": "stdout",
     "output_type": "stream",
     "text": [
      "💬 Question: How are credit card disputes handled?\n",
      "✅ Answer: improperly\n",
      "📄 Sources:\n",
      "- my complaint is about a dispute improperly handled by the credit card company\n",
      "- navigating the world of credit card disputes can be an overwhelming experience especially when dealing with a bank that seems more intent on putting up hurdles than providing solutions let me share my ongoing ordeal with bank of america a once reputable institution now leaving me in a constant state\n",
      "================================================================================\n"
     ]
    },
    {
     "name": "stderr",
     "output_type": "stream",
     "text": [
      "Both `max_new_tokens` (=256) and `max_length`(=512) seem to have been set. `max_new_tokens` will take precedence. Please refer to the documentation for more information. (https://huggingface.co/docs/transformers/main/en/main_classes/text_generation)\n"
     ]
    },
    {
     "name": "stdout",
     "output_type": "stream",
     "text": [
      "💬 Question: Is there a delay in Buy Now Pay Later refunds?\n",
      "✅ Answer: this customary delay seems to be an obvious ploy by creditcard companies they could make refunds immediately or nearly so if they wanted at most they might require xxxx or two business days not xxxx or xxxx billing cycles\n",
      "📄 Sources:\n",
      "- this customary delay seems to me an obvious ploy by creditcard companies they could make refunds immediately or nearly so if they wanted at most they might require xxxx or two business days not xxxx or xxxx billing cycles\n",
      "- this delay in issuing refunds seems to be a recurring problem\n",
      "================================================================================\n"
     ]
    }
   ],
   "source": [
    "import sys\n",
    "import os\n",
    "\n",
    "# Get the project root (one level up from notebooks)\n",
    "project_root = os.path.abspath(os.path.join(os.getcwd(), \"..\"))\n",
    "# Add the src directory to Python path\n",
    "sys.path.append(os.path.join(project_root, \"src\"))\n",
    "\n",
    "# Now you can import directly\n",
    "from rag_pipeline import run_rag_pipeline\n",
    "\n",
    "questions = [\n",
    "    \"What are the most common complaints about personal loans?\",\n",
    "    \"Do users face problems with money transfers?\",\n",
    "    \"Are savings accounts often closed without notice?\",\n",
    "    \"How are credit card disputes handled?\",\n",
    "    \"Is there a delay in Buy Now Pay Later refunds?\"\n",
    "]\n",
    "\n",
    "for q in questions:\n",
    "    result = run_rag_pipeline(q)\n",
    "    print(\"💬 Question:\", result[\"question\"])\n",
    "    print(\"✅ Answer:\", result[\"answer\"])\n",
    "    print(\"📄 Sources:\")\n",
    "    for src in result[\"sources\"]:\n",
    "        print(\"-\", src)\n",
    "    print(\"=\"*80)"
   ]
  },
  {
   "cell_type": "code",
   "execution_count": null,
   "id": "22f57fd1",
   "metadata": {},
   "outputs": [],
   "source": []
  }
 ],
 "metadata": {
  "kernelspec": {
   "display_name": "venv",
   "language": "python",
   "name": "python3"
  },
  "language_info": {
   "codemirror_mode": {
    "name": "ipython",
    "version": 3
   },
   "file_extension": ".py",
   "mimetype": "text/x-python",
   "name": "python",
   "nbconvert_exporter": "python",
   "pygments_lexer": "ipython3",
   "version": "3.11.9"
  }
 },
 "nbformat": 4,
 "nbformat_minor": 5
}
